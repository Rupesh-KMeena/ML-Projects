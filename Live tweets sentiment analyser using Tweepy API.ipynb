{
 "cells": [
  {
   "cell_type": "markdown",
   "id": "557dae10",
   "metadata": {},
   "source": [
    "# Impoet Libraries"
   ]
  },
  {
   "cell_type": "code",
   "execution_count": 3,
   "id": "2e399afd",
   "metadata": {},
   "outputs": [],
   "source": [
    "import tweepy\n",
    "from textblob import TextBlob\n",
    "from vaderSentiment.vaderSentiment import SentimentIntensityAnalyzer"
   ]
  },
  {
   "cell_type": "markdown",
   "id": "2aa478e4",
   "metadata": {},
   "source": [
    "# Set your Twitter API credentials"
   ]
  },
  {
   "cell_type": "code",
   "execution_count": null,
   "id": "406494b3",
   "metadata": {},
   "outputs": [],
   "source": [
    "consumer_key = \"YOUR_CONSUMER_KEY\"                 # here set your consumer_key\n",
    "consumer_secret = \"YOUR_CONSUMER_SECRET\"           # here set your consumer_secret\n",
    "access_token = \"YOUR_ACCESS_TOKEN\"                 # here set your access_token\n",
    "access_token_secret = \"YOUR_ACCESS_TOKEN_SECRET\"   # here set your access_token_secret"
   ]
  },
  {
   "cell_type": "markdown",
   "id": "9312f6b9",
   "metadata": {},
   "source": [
    "# Create a custom StreamListener"
   ]
  },
  {
   "cell_type": "code",
   "execution_count": null,
   "id": "75f15ea4",
   "metadata": {},
   "outputs": [],
   "source": [
    "class MyStreamListener(tweepy.StreamListener):\n",
    "    def on_status(self, status):\n",
    "        tweet_text = status.text\n",
    "        \n",
    "        # Perform sentiment analysis on tweet_text\n",
    "        analyzer = SentimentIntensityAnalyzer()\n",
    "        sentiment_scores = analyzer.polarity_scores(tweet_text)\n",
    "        \n",
    "        # Interpret the sentiment scores\n",
    "        if sentiment_scores['compound'] >= 0.05:\n",
    "            sentiment = 'Positive'\n",
    "        elif sentiment_scores['compound'] <= -0.05:\n",
    "            sentiment = 'Negative'\n",
    "        else:\n",
    "            sentiment = 'Neutral'\n",
    "        \n",
    "        print(\"Tweet:\", tweet_text)\n",
    "        print(\"Sentiment:\", sentiment)\n",
    "        print(\"---\")"
   ]
  },
  {
   "cell_type": "markdown",
   "id": "4f908b81",
   "metadata": {},
   "source": [
    "# Authenticate with Twitter"
   ]
  },
  {
   "cell_type": "code",
   "execution_count": null,
   "id": "b5b0ada6",
   "metadata": {},
   "outputs": [],
   "source": [
    "auth = tweepy.OAuthHandler(consumer_key, consumer_secret)\n",
    "auth.set_access_token(access_token, access_token_secret)"
   ]
  },
  {
   "cell_type": "markdown",
   "id": "33f3ad59",
   "metadata": {},
   "source": [
    "# Create the API object"
   ]
  },
  {
   "cell_type": "code",
   "execution_count": null,
   "id": "31addf2f",
   "metadata": {},
   "outputs": [],
   "source": [
    "api = tweepy.API(auth)"
   ]
  },
  {
   "cell_type": "markdown",
   "id": "94c884fb",
   "metadata": {},
   "source": [
    "# Create an instance of the custom StreamListener"
   ]
  },
  {
   "cell_type": "code",
   "execution_count": null,
   "id": "72929f96",
   "metadata": {},
   "outputs": [],
   "source": [
    "stream_listener = MyStreamListener()"
   ]
  },
  {
   "cell_type": "markdown",
   "id": "a63067c4",
   "metadata": {},
   "source": [
    "# Create a Stream object with the API authentication and listener"
   ]
  },
  {
   "cell_type": "code",
   "execution_count": null,
   "id": "6fb558bb",
   "metadata": {},
   "outputs": [],
   "source": [
    "stream = tweepy.Stream(auth=api.auth, listener=stream_listener)"
   ]
  },
  {
   "cell_type": "markdown",
   "id": "807c10b1",
   "metadata": {},
   "source": [
    "# Start streaming live tweets with the query '#IPL'"
   ]
  },
  {
   "cell_type": "code",
   "execution_count": null,
   "id": "3c95912e",
   "metadata": {},
   "outputs": [],
   "source": [
    "stream.filter(track=['#IPL'], languages=[\"en\"])"
   ]
  }
 ],
 "metadata": {
  "kernelspec": {
   "display_name": "Python 3 (ipykernel)",
   "language": "python",
   "name": "python3"
  },
  "language_info": {
   "codemirror_mode": {
    "name": "ipython",
    "version": 3
   },
   "file_extension": ".py",
   "mimetype": "text/x-python",
   "name": "python",
   "nbconvert_exporter": "python",
   "pygments_lexer": "ipython3",
   "version": "3.11.2"
  }
 },
 "nbformat": 4,
 "nbformat_minor": 5
}
